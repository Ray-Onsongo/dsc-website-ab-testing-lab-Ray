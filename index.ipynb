{
 "cells": [
  {
   "attachments": {},
   "cell_type": "markdown",
   "metadata": {},
   "source": [
    "# Website A/B Testing - Lab\n",
    "\n",
    "## Introduction\n",
    "\n",
    "In this lab, you'll get another chance to practice your skills at conducting a full A/B test analysis. It will also be a chance to practice your data exploration and processing skills! The scenario you'll be investigating is data collected from the homepage of a music app page for audacity.\n",
    "\n",
    "## Objectives\n",
    "\n",
    "You will be able to:\n",
    "* Analyze the data from a website A/B test to draw relevant conclusions\n",
    "* Explore and analyze web action data"
   ]
  },
  {
   "attachments": {},
   "cell_type": "markdown",
   "metadata": {},
   "source": [
    "## Exploratory Analysis\n",
    "\n",
    "Start by loading in the dataset stored in the file 'homepage_actions.csv'. Then conduct an exploratory analysis to get familiar with the data."
   ]
  },
  {
   "attachments": {},
   "cell_type": "markdown",
   "metadata": {},
   "source": [
    "> Hints:\n",
    "    * Start investigating the id column:\n",
    "        * How many viewers also clicked?\n",
    "        * Are there any anomalies with the data; did anyone click who didn't view?\n",
    "        * Is there any overlap between the control and experiment groups? \n",
    "            * If so, how do you plan to account for this in your experimental design?"
   ]
  },
  {
   "cell_type": "code",
   "execution_count": 1,
   "metadata": {},
   "outputs": [
    {
     "name": "stdout",
     "output_type": "stream",
     "text": [
      "Dataset Info:\n",
      "<class 'pandas.core.frame.DataFrame'>\n",
      "RangeIndex: 8188 entries, 0 to 8187\n",
      "Data columns (total 4 columns):\n",
      " #   Column     Non-Null Count  Dtype \n",
      "---  ------     --------------  ----- \n",
      " 0   timestamp  8188 non-null   object\n",
      " 1   id         8188 non-null   int64 \n",
      " 2   group      8188 non-null   object\n",
      " 3   action     8188 non-null   object\n",
      "dtypes: int64(1), object(3)\n",
      "memory usage: 256.0+ KB\n",
      "None\n",
      "\n",
      "First 5 rows:\n",
      "                    timestamp      id       group action\n",
      "0  2016-09-24 17:42:27.839496  804196  experiment   view\n",
      "1  2016-09-24 19:19:03.542569  434745  experiment   view\n",
      "2  2016-09-24 19:36:00.944135  507599  experiment   view\n",
      "3  2016-09-24 19:59:02.646620  671993     control   view\n",
      "4  2016-09-24 20:26:14.466886  536734  experiment   view\n",
      "\n",
      "Value counts for each action:\n",
      "action\n",
      "view     6328\n",
      "click    1860\n",
      "Name: count, dtype: int64\n",
      "\n",
      "Value counts for each group:\n",
      "group\n",
      "control       4264\n",
      "experiment    3924\n",
      "Name: count, dtype: int64\n"
     ]
    }
   ],
   "source": [
    "#Your code here\n",
    "import pandas as pd\n",
    "import numpy as np\n",
    "import matplotlib.pyplot as plt\n",
    "import seaborn as sns\n",
    "from scipy import stats\n",
    "\n",
    "# Load the dataset\n",
    "df = pd.read_csv('homepage_actions.csv')\n",
    "\n",
    "# Display basic information\n",
    "print(\"Dataset Info:\")\n",
    "print(df.info())\n",
    "print(\"\\nFirst 5 rows:\")\n",
    "print(df.head())\n",
    "print(\"\\nValue counts for each action:\")\n",
    "print(df['action'].value_counts())\n",
    "print(\"\\nValue counts for each group:\")\n",
    "print(df['group'].value_counts())"
   ]
  },
  {
   "cell_type": "code",
   "execution_count": 2,
   "metadata": {},
   "outputs": [
    {
     "name": "stdout",
     "output_type": "stream",
     "text": [
      "Total unique users: 6328\n",
      "Users in both groups: 0\n",
      "Total views: 6328\n",
      "Total clicks: 1860\n",
      "Users who clicked without viewing: 0\n",
      "Date range: 2016-09-24 17:42:27.839496 to 2017-01-18 10:24:08.629327\n"
     ]
    }
   ],
   "source": [
    "# Check for unique users and potential overlap between groups\n",
    "unique_users = df['id'].nunique()\n",
    "print(f\"Total unique users: {unique_users}\")\n",
    "\n",
    "# Check for users in both control and experiment groups\n",
    "control_users = set(df[df['group'] == 'control']['id'])\n",
    "experiment_users = set(df[df['group'] == 'experiment']['id'])\n",
    "overlap_users = control_users.intersection(experiment_users)\n",
    "\n",
    "print(f\"Users in both groups: {len(overlap_users)}\")\n",
    "\n",
    "# Analyze view vs click behavior\n",
    "views = df[df['action'] == 'view']\n",
    "clicks = df[df['action'] == 'click']\n",
    "\n",
    "print(f\"Total views: {len(views)}\")\n",
    "print(f\"Total clicks: {len(clicks)}\")\n",
    "\n",
    "# Check for users who clicked without viewing\n",
    "viewers = set(views['id'])\n",
    "clickers = set(clicks['id'])\n",
    "clicked_without_viewing = clickers - viewers\n",
    "\n",
    "print(f\"Users who clicked without viewing: {len(clicked_without_viewing)}\")\n",
    "\n",
    "# Check timestamp range\n",
    "df['timestamp'] = pd.to_datetime(df['timestamp'])\n",
    "print(f\"Date range: {df['timestamp'].min()} to {df['timestamp'].max()}\")"
   ]
  },
  {
   "cell_type": "code",
   "execution_count": 3,
   "metadata": {},
   "outputs": [
    {
     "name": "stdout",
     "output_type": "stream",
     "text": [
      "User-level statistics:\n",
      "                  id  total_actions       clicks   views      clicked  viewed\n",
      "count    6328.000000    6328.000000  6328.000000  6328.0  6328.000000  6328.0\n",
      "mean   564022.432838       1.293932     0.293932     1.0     0.293932     1.0\n",
      "std    218848.088000       0.455597     0.455597     0.0     0.455597     0.0\n",
      "min    182988.000000       1.000000     0.000000     1.0     0.000000     1.0\n",
      "25%    373567.500000       1.000000     0.000000     1.0     0.000000     1.0\n",
      "50%    566037.000000       1.000000     0.000000     1.0     0.000000     1.0\n",
      "75%    756144.250000       2.000000     1.000000     1.0     1.000000     1.0\n",
      "max    937217.000000       2.000000     1.000000     1.0     1.000000     1.0\n",
      "Users with more clicks than views: 0\n"
     ]
    }
   ],
   "source": [
    "# Create a user-level dataframe\n",
    "user_actions = df.groupby(['id', 'group']).agg({\n",
    "    'action': ['count', lambda x: (x == 'click').sum()]\n",
    "}).reset_index()\n",
    "\n",
    "user_actions.columns = ['id', 'group', 'total_actions', 'clicks']\n",
    "user_actions['views'] = user_actions['total_actions'] - user_actions['clicks']\n",
    "user_actions['clicked'] = (user_actions['clicks'] > 0).astype(int)\n",
    "user_actions['viewed'] = (user_actions['views'] > 0).astype(int)\n",
    "\n",
    "print(\"User-level statistics:\")\n",
    "print(user_actions.describe())\n",
    "\n",
    "# Check for anomalies\n",
    "anomalies = user_actions[user_actions['clicks'] > user_actions['views']]\n",
    "print(f\"Users with more clicks than views: {len(anomalies)}\")"
   ]
  },
  {
   "cell_type": "code",
   "execution_count": 4,
   "metadata": {},
   "outputs": [
    {
     "name": "stdout",
     "output_type": "stream",
     "text": [
      "Clean control group size: 3332\n",
      "Clean experiment group size: 2996\n",
      "Control CTR: 0.2797\n",
      "Experiment CTR: 0.3097\n",
      "Absolute difference: 0.0300\n",
      "Relative difference: 10.74%\n"
     ]
    }
   ],
   "source": [
    "# Remove overlapping users to maintain group independence\n",
    "clean_users = user_actions[~user_actions['id'].isin(overlap_users)]\n",
    "clean_control = clean_users[clean_users['group'] == 'control']\n",
    "clean_experiment = clean_users[clean_users['group'] == 'experiment']\n",
    "\n",
    "print(f\"Clean control group size: {len(clean_control)}\")\n",
    "print(f\"Clean experiment group size: {len(clean_experiment)}\")\n",
    "\n",
    "# Calculate click-through rates\n",
    "control_ctr = clean_control['clicked'].mean()\n",
    "experiment_ctr = clean_experiment['clicked'].mean()\n",
    "\n",
    "print(f\"Control CTR: {control_ctr:.4f}\")\n",
    "print(f\"Experiment CTR: {experiment_ctr:.4f}\")\n",
    "print(f\"Absolute difference: {abs(experiment_ctr - control_ctr):.4f}\")\n",
    "print(f\"Relative difference: {(experiment_ctr - control_ctr)/control_ctr:.2%}\")"
   ]
  },
  {
   "attachments": {},
   "cell_type": "markdown",
   "metadata": {},
   "source": [
    "## Conduct a Statistical Test\n",
    "\n",
    "Conduct a statistical test to determine whether the experimental homepage was more effective than that of the control group."
   ]
  },
  {
   "cell_type": "code",
   "execution_count": 5,
   "metadata": {},
   "outputs": [
    {
     "name": "stdout",
     "output_type": "stream",
     "text": [
      "Test Group Sizes:\n",
      "Control: 3332 users, 932 clicks\n",
      "Experiment: 2996 users, 928 clicks\n",
      "\n",
      "Z-statistic: -2.6186\n",
      "P-value: 0.004415\n",
      "\n",
      "95% Confidence Intervals:\n",
      "Control CTR: 0.2797 [0.2645, 0.2950]\n",
      "Experiment CTR: 0.3097 [0.2932, 0.3263]\n",
      "\n",
      "Relative improvement: 10.74%\n",
      "Practically significant (≥2% improvement): True\n"
     ]
    }
   ],
   "source": [
    "#Your code here\n",
    "# Statistical test for difference in click-through rates\n",
    "from statsmodels.stats.proportion import proportions_ztest\n",
    "\n",
    "# Prepare data for hypothesis testing\n",
    "control_clicks = clean_control['clicked'].sum()\n",
    "control_total = len(clean_control)\n",
    "experiment_clicks = clean_experiment['clicked'].sum()\n",
    "experiment_total = len(clean_experiment)\n",
    "\n",
    "print(\"Test Group Sizes:\")\n",
    "print(f\"Control: {control_total} users, {control_clicks} clicks\")\n",
    "print(f\"Experiment: {experiment_total} users, {experiment_clicks} clicks\")\n",
    "\n",
    "# Perform two-proportion z-test\n",
    "count = np.array([control_clicks, experiment_clicks])\n",
    "nobs = np.array([control_total, experiment_total])\n",
    "z_stat, p_value = proportions_ztest(count, nobs, alternative='smaller')\n",
    "\n",
    "print(f\"\\nZ-statistic: {z_stat:.4f}\")\n",
    "print(f\"P-value: {p_value:.6f}\")\n",
    "\n",
    "# Calculate confidence interval\n",
    "from statsmodels.stats.proportion import proportion_confint\n",
    "\n",
    "control_ci = proportion_confint(control_clicks, control_total, alpha=0.05, method='normal')\n",
    "experiment_ci = proportion_confint(experiment_clicks, experiment_total, alpha=0.05, method='normal')\n",
    "\n",
    "print(f\"\\n95% Confidence Intervals:\")\n",
    "print(f\"Control CTR: {control_ctr:.4f} [{control_ci[0]:.4f}, {control_ci[1]:.4f}]\")\n",
    "print(f\"Experiment CTR: {experiment_ctr:.4f} [{experiment_ci[0]:.4f}, {experiment_ci[1]:.4f}]\")\n",
    "\n",
    "# Calculate practical significance\n",
    "relative_improvement = (experiment_ctr - control_ctr) / control_ctr\n",
    "print(f\"\\nRelative improvement: {relative_improvement:.2%}\")\n",
    "\n",
    "# Check if results are practically significant\n",
    "# (Using a common threshold of 2% relative improvement for practical significance)\n",
    "practical_significance = relative_improvement >= 0.02\n",
    "print(f\"Practically significant (≥2% improvement): {practical_significance}\")"
   ]
  },
  {
   "cell_type": "code",
   "execution_count": 6,
   "metadata": {},
   "outputs": [
    {
     "name": "stdout",
     "output_type": "stream",
     "text": [
      "\n",
      "Contingency Table:\n",
      "clicked        0    1\n",
      "group                \n",
      "control     2400  932\n",
      "experiment  2068  928\n",
      "\n",
      "Chi-square test:\n",
      "Chi2 statistic: 6.7129\n",
      "P-value: 0.009572\n"
     ]
    }
   ],
   "source": [
    "# Chi-square test for independence\n",
    "from scipy.stats import chi2_contingency\n",
    "\n",
    "# Create contingency table\n",
    "contingency_table = pd.crosstab(clean_users['group'], clean_users['clicked'])\n",
    "print(\"\\nContingency Table:\")\n",
    "print(contingency_table)\n",
    "\n",
    "chi2, p_value_chi, dof, expected = chi2_contingency(contingency_table)\n",
    "print(f\"\\nChi-square test:\")\n",
    "print(f\"Chi2 statistic: {chi2:.4f}\")\n",
    "print(f\"P-value: {p_value_chi:.6f}\")"
   ]
  },
  {
   "cell_type": "code",
   "execution_count": 7,
   "metadata": {},
   "outputs": [
    {
     "data": {
      "image/png": "[encoded data removed]",
      "text/plain": [
       "<Figure size 1200x500 with 2 Axes>"
      ]
     },
     "metadata": {},
     "output_type": "display_data"
    },
    {
     "name": "stdout",
     "output_type": "stream",
     "text": [
      "\n",
      "Achieved power: 0.757\n"
     ]
    }
   ],
   "source": [
    "# Visualization\n",
    "plt.figure(figsize=(12, 5))\n",
    "\n",
    "# Plot 1: Click-through rates with confidence intervals\n",
    "plt.subplot(1, 2, 1)\n",
    "groups = ['Control', 'Experiment']\n",
    "ctrs = [control_ctr, experiment_ctr]\n",
    "cis = [(control_ci[1]-control_ctr), (experiment_ci[1]-experiment_ctr)]\n",
    "\n",
    "plt.bar(groups, ctrs, yerr=cis, capsize=5, alpha=0.7, color=['skyblue', 'lightcoral'])\n",
    "plt.ylabel('Click-Through Rate')\n",
    "plt.title('CTR Comparison with 95% Confidence Intervals')\n",
    "plt.ylim(0, max(ctrs) + max(cis) + 0.01)\n",
    "\n",
    "# Plot 2: Distribution of clicks\n",
    "plt.subplot(1, 2, 2)\n",
    "click_data = [clean_control['clicked'].value_counts(), clean_experiment['clicked'].value_counts()]\n",
    "click_df = pd.DataFrame({\n",
    "    'Control': click_data[0],\n",
    "    'Experiment': click_data[1]\n",
    "}).fillna(0)\n",
    "click_df.index = ['No Click', 'Clicked']\n",
    "\n",
    "click_df.plot(kind='bar', ax=plt.gca(), color=['skyblue', 'lightcoral'])\n",
    "plt.title('Click Distribution by Group')\n",
    "plt.xlabel('Action')\n",
    "plt.ylabel('Count')\n",
    "plt.xticks(rotation=0)\n",
    "\n",
    "plt.tight_layout()\n",
    "plt.show()\n",
    "\n",
    "# Power analysis to check if test had sufficient sample size\n",
    "from statsmodels.stats.power import TTestIndPower\n",
    "\n",
    "# Parameters for power analysis\n",
    "effect_size = (experiment_ctr - control_ctr) / np.sqrt(control_ctr * (1 - control_ctr))\n",
    "alpha = 0.05\n",
    "power = 0.8\n",
    "\n",
    "# Calculate achieved power\n",
    "analysis = TTestIndPower()\n",
    "achieved_power = analysis.solve_power(effect_size=effect_size, nobs1=control_total, \n",
    "                                     ratio=experiment_total/control_total, alpha=alpha)\n",
    "print(f\"\\nAchieved power: {achieved_power:.3f}\")"
   ]
  },
  {
   "attachments": {},
   "cell_type": "markdown",
   "metadata": {},
   "source": [
    "## Verifying Results\n",
    "\n",
    "One sensible formulation of the data to answer the hypothesis test above would be to create a binary variable representing each individual in the experiment and control group. This binary variable would represent whether or not that individual clicked on the homepage; 1 for they did and 0 if they did not. \n",
    "\n",
    "The variance for the number of successes in a sample of a binomial variable with n observations is given by:\n",
    "\n",
    "## $n\\bullet p (1-p)$\n",
    "\n",
    "Given this, perform 3 steps to verify the results of your statistical test:\n",
    "1. Calculate the expected number of clicks for the experiment group, if it had the same click-through rate as that of the control group. \n",
    "2. Calculate the number of standard deviations that the actual number of clicks was from this estimate. \n",
    "3. Finally, calculate a p-value using the normal distribution based on this z-score."
   ]
  },
  {
   "attachments": {},
   "cell_type": "markdown",
   "metadata": {},
   "source": [
    "### Step 1:\n",
    "Calculate the expected number of clicks for the experiment group, if it had the same click-through rate as that of the control group. "
   ]
  },
  {
   "cell_type": "code",
   "execution_count": 8,
   "metadata": {},
   "outputs": [
    {
     "name": "stdout",
     "output_type": "stream",
     "text": [
      "Step 1: Expected Clicks Calculation\n",
      "Control group CTR: 0.279712\n",
      "Experiment group size: 2996\n",
      "Expected clicks for experiment group (if same as control CTR): 838.02\n",
      "Actual clicks in experiment group: 928\n",
      "Difference: 89.98 clicks\n"
     ]
    }
   ],
   "source": [
    "#Your code \n",
    "# Calculate expected clicks for experiment group if it had control group's CTR\n",
    "expected_clicks_experiment = experiment_total * control_ctr\n",
    "\n",
    "print(\"Step 1: Expected Clicks Calculation\")\n",
    "print(f\"Control group CTR: {control_ctr:.6f}\")\n",
    "print(f\"Experiment group size: {experiment_total}\")\n",
    "print(f\"Expected clicks for experiment group (if same as control CTR): {expected_clicks_experiment:.2f}\")\n",
    "print(f\"Actual clicks in experiment group: {experiment_clicks}\")\n",
    "print(f\"Difference: {experiment_clicks - expected_clicks_experiment:.2f} clicks\")"
   ]
  },
  {
   "attachments": {},
   "cell_type": "markdown",
   "metadata": {},
   "source": [
    "### Step 2:\n",
    "Calculate the number of standard deviations that the actual number of clicks was from this estimate."
   ]
  },
  {
   "cell_type": "code",
   "execution_count": 9,
   "metadata": {},
   "outputs": [
    {
     "name": "stdout",
     "output_type": "stream",
     "text": [
      "\n",
      "Step 2: Z-score Calculation\n",
      "Variance of expected clicks: 603.6135\n",
      "Standard deviation: 24.5685\n",
      "Z-score: 3.6625\n"
     ]
    }
   ],
   "source": [
    "#Your code here\n",
    "# Calculate variance and standard deviation\n",
    "# Variance for binomial distribution: n * p * (1-p)\n",
    "variance_expected = experiment_total * control_ctr * (1 - control_ctr)\n",
    "std_dev_expected = np.sqrt(variance_expected)\n",
    "\n",
    "# Calculate z-score\n",
    "z_score_manual = (experiment_clicks - expected_clicks_experiment) / std_dev_expected\n",
    "\n",
    "print(\"\\nStep 2: Z-score Calculation\")\n",
    "print(f\"Variance of expected clicks: {variance_expected:.4f}\")\n",
    "print(f\"Standard deviation: {std_dev_expected:.4f}\")\n",
    "print(f\"Z-score: {z_score_manual:.4f}\")"
   ]
  },
  {
   "attachments": {},
   "cell_type": "markdown",
   "metadata": {},
   "source": [
    "### Step 3: \n",
    "Finally, calculate a p-value using the normal distribution based on this z-score."
   ]
  },
  {
   "cell_type": "code",
   "execution_count": 10,
   "metadata": {},
   "outputs": [
    {
     "name": "stdout",
     "output_type": "stream",
     "text": [
      "\n",
      "Step 3: P-value Calculation\n",
      "Z-score: 3.6625\n",
      "P-value: 0.000125\n",
      "\n",
      "Comparison with previous statistical test:\n",
      "Manual Z-score: 3.6625 vs Previous Z-score: -2.6186\n",
      "Manual P-value: 0.000125 vs Previous P-value: 0.004415\n"
     ]
    }
   ],
   "source": [
    "#Your code here\n",
    "# Calculate p-value using normal distribution\n",
    "from scipy.stats import norm\n",
    "\n",
    "# One-tailed test (we're testing if experiment > control)\n",
    "p_value_manual = 1 - norm.cdf(z_score_manual)\n",
    "\n",
    "print(\"\\nStep 3: P-value Calculation\")\n",
    "print(f\"Z-score: {z_score_manual:.4f}\")\n",
    "print(f\"P-value: {p_value_manual:.6f}\")\n",
    "\n",
    "# Compare with our previous result\n",
    "print(f\"\\nComparison with previous statistical test:\")\n",
    "print(f\"Manual Z-score: {z_score_manual:.4f} vs Previous Z-score: {z_stat:.4f}\")\n",
    "print(f\"Manual P-value: {p_value_manual:.6f} vs Previous P-value: {p_value:.6f}\")"
   ]
  },
  {
   "attachments": {},
   "cell_type": "markdown",
   "metadata": {},
   "source": [
    "### Analysis:\n",
    "\n",
    "Does this result roughly match that of the previous statistical test?\n",
    "\n",
    "> Comment: **Your analysis here**"
   ]
  },
  {
   "attachments": {},
   "cell_type": "markdown",
   "metadata": {},
   "source": [
    "## Summary\n",
    "\n",
    "In this lab, you continued to get more practice designing and conducting AB tests. This required additional work preprocessing and formulating the initial problem in a suitable manner. Additionally, you also saw how to verify results, strengthening your knowledge of binomial variables, and reviewing initial statistical concepts of the central limit theorem, standard deviation, z-scores, and their accompanying p-values."
   ]
  }
 ],
 "metadata": {
  "kernelspec": {
   "display_name": "Python 3 (ipykernel)",
   "language": "python",
   "name": "python3"
  },
  "language_info": {
   "codemirror_mode": {
    "name": "ipython",
    "version": 3
   },
   "file_extension": ".py",
   "mimetype": "text/x-python",
   "name": "python",
   "nbconvert_exporter": "python",
   "pygments_lexer": "ipython3",
   "version": "3.13.5"
  }
 },
 "nbformat": 4,
 "nbformat_minor": 4
}
